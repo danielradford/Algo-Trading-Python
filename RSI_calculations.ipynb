{
 "cells": [
  {
   "cell_type": "code",
   "execution_count": 77,
   "id": "9f8956d7",
   "metadata": {},
   "outputs": [],
   "source": [
    "import yfinance as yf\n",
    "import matplotlib.pyplot as plt\n",
    "import pandas as pd\n",
    "import numpy as np \n",
    "import datetime"
   ]
  },
  {
   "cell_type": "code",
   "execution_count": 78,
   "id": "f578fc91",
   "metadata": {},
   "outputs": [],
   "source": [
    "def download_data(stock,start,end):\n",
    "    data={}\n",
    "    ticker = yf.download(stock,start,end)\n",
    "    data['price'] = ticker['Adj Close']\n",
    "    return pd.DataFrame(data)"
   ]
  },
  {
   "cell_type": "code",
   "execution_count": 90,
   "id": "429484af",
   "metadata": {
    "scrolled": false
   },
   "outputs": [
    {
     "name": "stdout",
     "output_type": "stream",
     "text": [
      "[*********************100%***********************]  1 of 1 completed\n"
     ]
    }
   ],
   "source": [
    "start_date = datetime.datetime(2015,1,1)\n",
    "end_date = datetime.datetime(2020,1,1)\n",
    "stock_data = download_data('IBM',start_date,end_date)"
   ]
  },
  {
   "cell_type": "code",
   "execution_count": 91,
   "id": "54ec7057",
   "metadata": {},
   "outputs": [],
   "source": [
    "stock_data['return'] = np.log(stock_data['price'] / stock_data['price'].shift(1))"
   ]
  },
  {
   "cell_type": "code",
   "execution_count": 92,
   "id": "bfdbbc77",
   "metadata": {},
   "outputs": [],
   "source": [
    "stock_data['move'] = stock_data['price'] - stock_data['price'].shift(1)\n",
    "stock_data['up'] =  np.where(stock_data['move'] > 0, stock_data['move'],0)\n",
    "stock_data['down'] =  np.where(stock_data['move'] < 0, stock_data['move'],0)"
   ]
  },
  {
   "cell_type": "code",
   "execution_count": 93,
   "id": "b6105742",
   "metadata": {},
   "outputs": [],
   "source": [
    "stock_data['average_gain'] = stock_data['up'].rolling(14).mean()\n",
    "stock_data['average_loss'] = stock_data['down'].abs().rolling(14).mean()\n",
    "RS = stock_data['average_gain'] / stock_data['average_loss']"
   ]
  },
  {
   "cell_type": "code",
   "execution_count": 95,
   "id": "8478a7d4",
   "metadata": {},
   "outputs": [],
   "source": [
    "stock_data.dropna(inplace=True)"
   ]
  },
  {
   "cell_type": "code",
   "execution_count": 98,
   "id": "b41c634b",
   "metadata": {},
   "outputs": [
    {
     "data": {
      "text/html": [
       "<div>\n",
       "<style scoped>\n",
       "    .dataframe tbody tr th:only-of-type {\n",
       "        vertical-align: middle;\n",
       "    }\n",
       "\n",
       "    .dataframe tbody tr th {\n",
       "        vertical-align: top;\n",
       "    }\n",
       "\n",
       "    .dataframe thead th {\n",
       "        text-align: right;\n",
       "    }\n",
       "</style>\n",
       "<table border=\"1\" class=\"dataframe\">\n",
       "  <thead>\n",
       "    <tr style=\"text-align: right;\">\n",
       "      <th></th>\n",
       "      <th>price</th>\n",
       "      <th>return</th>\n",
       "      <th>move</th>\n",
       "      <th>up</th>\n",
       "      <th>down</th>\n",
       "      <th>average_gain</th>\n",
       "      <th>average_loss</th>\n",
       "      <th>RSI</th>\n",
       "    </tr>\n",
       "    <tr>\n",
       "      <th>Date</th>\n",
       "      <th></th>\n",
       "      <th></th>\n",
       "      <th></th>\n",
       "      <th></th>\n",
       "      <th></th>\n",
       "      <th></th>\n",
       "      <th></th>\n",
       "      <th></th>\n",
       "    </tr>\n",
       "  </thead>\n",
       "  <tbody>\n",
       "    <tr>\n",
       "      <th>2015-01-22</th>\n",
       "      <td>116.783226</td>\n",
       "      <td>0.021466</td>\n",
       "      <td>2.480118</td>\n",
       "      <td>2.480118</td>\n",
       "      <td>0.000000</td>\n",
       "      <td>0.552923</td>\n",
       "      <td>0.910983</td>\n",
       "      <td>37.770397</td>\n",
       "    </tr>\n",
       "    <tr>\n",
       "      <th>2015-01-23</th>\n",
       "      <td>117.143990</td>\n",
       "      <td>0.003084</td>\n",
       "      <td>0.360764</td>\n",
       "      <td>0.360764</td>\n",
       "      <td>0.000000</td>\n",
       "      <td>0.578692</td>\n",
       "      <td>0.910983</td>\n",
       "      <td>38.846862</td>\n",
       "    </tr>\n",
       "    <tr>\n",
       "      <th>2015-01-26</th>\n",
       "      <td>117.512238</td>\n",
       "      <td>0.003139</td>\n",
       "      <td>0.368248</td>\n",
       "      <td>0.368248</td>\n",
       "      <td>0.000000</td>\n",
       "      <td>0.604996</td>\n",
       "      <td>0.774093</td>\n",
       "      <td>43.869236</td>\n",
       "    </tr>\n",
       "    <tr>\n",
       "      <th>2015-01-27</th>\n",
       "      <td>115.490555</td>\n",
       "      <td>-0.017354</td>\n",
       "      <td>-2.021683</td>\n",
       "      <td>0.000000</td>\n",
       "      <td>-2.021683</td>\n",
       "      <td>0.604996</td>\n",
       "      <td>0.733833</td>\n",
       "      <td>45.188441</td>\n",
       "    </tr>\n",
       "    <tr>\n",
       "      <th>2015-01-28</th>\n",
       "      <td>113.897285</td>\n",
       "      <td>-0.013892</td>\n",
       "      <td>-1.593269</td>\n",
       "      <td>0.000000</td>\n",
       "      <td>-1.593269</td>\n",
       "      <td>0.604996</td>\n",
       "      <td>0.792885</td>\n",
       "      <td>43.279501</td>\n",
       "    </tr>\n",
       "    <tr>\n",
       "      <th>...</th>\n",
       "      <td>...</td>\n",
       "      <td>...</td>\n",
       "      <td>...</td>\n",
       "      <td>...</td>\n",
       "      <td>...</td>\n",
       "      <td>...</td>\n",
       "      <td>...</td>\n",
       "      <td>...</td>\n",
       "    </tr>\n",
       "    <tr>\n",
       "      <th>2019-12-24</th>\n",
       "      <td>123.739571</td>\n",
       "      <td>-0.004214</td>\n",
       "      <td>-0.522514</td>\n",
       "      <td>0.000000</td>\n",
       "      <td>-0.522514</td>\n",
       "      <td>0.329366</td>\n",
       "      <td>0.133580</td>\n",
       "      <td>71.145636</td>\n",
       "    </tr>\n",
       "    <tr>\n",
       "      <th>2019-12-26</th>\n",
       "      <td>123.675407</td>\n",
       "      <td>-0.000519</td>\n",
       "      <td>-0.064163</td>\n",
       "      <td>0.000000</td>\n",
       "      <td>-0.064163</td>\n",
       "      <td>0.329366</td>\n",
       "      <td>0.132924</td>\n",
       "      <td>71.246612</td>\n",
       "    </tr>\n",
       "    <tr>\n",
       "      <th>2019-12-27</th>\n",
       "      <td>124.005402</td>\n",
       "      <td>0.002665</td>\n",
       "      <td>0.329994</td>\n",
       "      <td>0.329994</td>\n",
       "      <td>0.000000</td>\n",
       "      <td>0.267159</td>\n",
       "      <td>0.132924</td>\n",
       "      <td>66.775817</td>\n",
       "    </tr>\n",
       "    <tr>\n",
       "      <th>2019-12-30</th>\n",
       "      <td>121.750275</td>\n",
       "      <td>-0.018353</td>\n",
       "      <td>-2.255127</td>\n",
       "      <td>0.000000</td>\n",
       "      <td>-2.255127</td>\n",
       "      <td>0.221322</td>\n",
       "      <td>0.294005</td>\n",
       "      <td>42.947861</td>\n",
       "    </tr>\n",
       "    <tr>\n",
       "      <th>2019-12-31</th>\n",
       "      <td>122.877846</td>\n",
       "      <td>0.009219</td>\n",
       "      <td>1.127571</td>\n",
       "      <td>1.127571</td>\n",
       "      <td>0.000000</td>\n",
       "      <td>0.301862</td>\n",
       "      <td>0.293350</td>\n",
       "      <td>50.715057</td>\n",
       "    </tr>\n",
       "  </tbody>\n",
       "</table>\n",
       "<p>1245 rows × 8 columns</p>\n",
       "</div>"
      ],
      "text/plain": [
       "                 price    return      move        up      down  average_gain  \\\n",
       "Date                                                                           \n",
       "2015-01-22  116.783226  0.021466  2.480118  2.480118  0.000000      0.552923   \n",
       "2015-01-23  117.143990  0.003084  0.360764  0.360764  0.000000      0.578692   \n",
       "2015-01-26  117.512238  0.003139  0.368248  0.368248  0.000000      0.604996   \n",
       "2015-01-27  115.490555 -0.017354 -2.021683  0.000000 -2.021683      0.604996   \n",
       "2015-01-28  113.897285 -0.013892 -1.593269  0.000000 -1.593269      0.604996   \n",
       "...                ...       ...       ...       ...       ...           ...   \n",
       "2019-12-24  123.739571 -0.004214 -0.522514  0.000000 -0.522514      0.329366   \n",
       "2019-12-26  123.675407 -0.000519 -0.064163  0.000000 -0.064163      0.329366   \n",
       "2019-12-27  124.005402  0.002665  0.329994  0.329994  0.000000      0.267159   \n",
       "2019-12-30  121.750275 -0.018353 -2.255127  0.000000 -2.255127      0.221322   \n",
       "2019-12-31  122.877846  0.009219  1.127571  1.127571  0.000000      0.301862   \n",
       "\n",
       "            average_loss        RSI  \n",
       "Date                                 \n",
       "2015-01-22      0.910983  37.770397  \n",
       "2015-01-23      0.910983  38.846862  \n",
       "2015-01-26      0.774093  43.869236  \n",
       "2015-01-27      0.733833  45.188441  \n",
       "2015-01-28      0.792885  43.279501  \n",
       "...                  ...        ...  \n",
       "2019-12-24      0.133580  71.145636  \n",
       "2019-12-26      0.132924  71.246612  \n",
       "2019-12-27      0.132924  66.775817  \n",
       "2019-12-30      0.294005  42.947861  \n",
       "2019-12-31      0.293350  50.715057  \n",
       "\n",
       "[1245 rows x 8 columns]"
      ]
     },
     "execution_count": 98,
     "metadata": {},
     "output_type": "execute_result"
    }
   ],
   "source": [
    "stock_data['RSI'] = 100 - (100 / (1.0+RS))\n",
    "stock_data"
   ]
  },
  {
   "cell_type": "code",
   "execution_count": 99,
   "id": "43090c5b",
   "metadata": {},
   "outputs": [
    {
     "data": {
      "text/plain": [
       "<AxesSubplot:xlabel='Date'>"
      ]
     },
     "execution_count": 99,
     "metadata": {},
     "output_type": "execute_result"
    },
    {
     "data": {
      "image/png": "[encoded data removed]",
      "text/plain": [
       "<Figure size 432x288 with 1 Axes>"
      ]
     },
     "metadata": {
      "needs_background": "light"
     },
     "output_type": "display_data"
    }
   ],
   "source": [
    "stock_data['RSI'].plot()"
   ]
  },
  {
   "cell_type": "code",
   "execution_count": null,
   "id": "6db3fdb5",
   "metadata": {},
   "outputs": [],
   "source": []
  }
 ],
 "metadata": {
  "kernelspec": {
   "display_name": "Python 3 (ipykernel)",
   "language": "python",
   "name": "python3"
  },
  "language_info": {
   "codemirror_mode": {
    "name": "ipython",
    "version": 3
   },
   "file_extension": ".py",
   "mimetype": "text/x-python",
   "name": "python",
   "nbconvert_exporter": "python",
   "pygments_lexer": "ipython3",
   "version": "3.8.8"
  }
 },
 "nbformat": 4,
 "nbformat_minor": 5
}
