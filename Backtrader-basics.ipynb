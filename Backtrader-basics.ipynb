{
 "cells": [
  {
   "cell_type": "code",
   "execution_count": 158,
   "id": "b5f2af24",
   "metadata": {},
   "outputs": [],
   "source": [
    "import backtrader as bt\n",
    "import yfinance as yf\n",
    "from datetime import datetime"
   ]
  },
  {
   "cell_type": "code",
   "execution_count": 159,
   "id": "31c0dfa3",
   "metadata": {},
   "outputs": [],
   "source": [
    "cerebro = bt.Cerebro()"
   ]
  },
  {
   "cell_type": "code",
   "execution_count": 160,
   "id": "014b436f",
   "metadata": {},
   "outputs": [
    {
     "name": "stdout",
     "output_type": "stream",
     "text": [
      "[*********************100%***********************]  1 of 1 completed\n"
     ]
    }
   ],
   "source": [
    "data = bt.feeds.PandasData(dataname=yf.download('AAPL', '2010-01-01','2017-01-01'))"
   ]
  },
  {
   "cell_type": "code",
   "execution_count": 161,
   "id": "cdf5aed0",
   "metadata": {},
   "outputs": [],
   "source": [
    "class MyStrategy(bt.Strategy):\n",
    "    params = (('period_fast',30),('period_slow',200))\n",
    "    def __init__(self):\n",
    "        #obtains the data provided.\n",
    "        self.close_data = self.data.close\n",
    "        #Create indicators.\n",
    "        self.fast_sma = bt.indicators.MovingAverageSimple(self.close_data,period=self.params.period_fast)\n",
    "        self.slow_sma = bt.indicators.MovingAverageSimple(self.close_data,period=self.params.period_slow)\n",
    "        \n",
    "    def next(self):\n",
    "        #Check if already in position\n",
    "        if not self.position:\n",
    "            #Open a long position at crossover of MA indicators. (buy)\n",
    "            if self.fast_sma[0] > self.slow_sma[0] and self.fast_sma[-1] < self.slow_sma[-1]:\n",
    "                self.buy()\n",
    "        else:\n",
    "            #Check whether to close long position. (sell)\n",
    "            if self.fast_sma[0] < self.slow_sma[0] and self.fast_sma[-1] > self.slow_sma[-1]:\n",
    "                self.close()\n",
    "                \n",
    "        \n",
    "      "
   ]
  },
  {
   "cell_type": "code",
   "execution_count": 162,
   "id": "c1545f4c",
   "metadata": {},
   "outputs": [
    {
     "name": "stdout",
     "output_type": "stream",
     "text": [
      "Initial capital: $3000.00\n"
     ]
    }
   ],
   "source": [
    "cerebro.adddata(data)\n",
    "cerebro.addstrategy(MyStrategy)\n",
    "cerebro.addobserver(bt.observers.Value)\n",
    "cerebro.addanalyzer(bt.analyzers.SharpeRatio,riskfreerate=0)\n",
    "cerebro.addanalyzer(bt.analyzers.Returns)\n",
    "cerebro.addanalyzer(bt.analyzers.DrawDown)\n",
    "cerebro.broker.set_cash(3000)\n",
    "print('Initial capital: $%.2f' % cerebro.broker.get_value())\n",
    "cerebro.broker.setcommission(0.01)"
   ]
  },
  {
   "cell_type": "code",
   "execution_count": 163,
   "id": "a7b2f7d6",
   "metadata": {},
   "outputs": [],
   "source": [
    "# Running strategy and getting results to evaluate\n",
    "results = cerebro.run()"
   ]
  },
  {
   "cell_type": "code",
   "execution_count": 164,
   "id": "7286336e",
   "metadata": {},
   "outputs": [
    {
     "name": "stdout",
     "output_type": "stream",
     "text": [
      "Sharpe Ratio: 0.72\n"
     ]
    }
   ],
   "source": [
    "print('Sharpe Ratio: %.2f' % results[0].analyzers.sharperatio.get_analysis()['sharperatio'])"
   ]
  },
  {
   "cell_type": "code",
   "execution_count": 165,
   "id": "71db8ba4",
   "metadata": {},
   "outputs": [
    {
     "name": "stdout",
     "output_type": "stream",
     "text": [
      "Returns: 0.06%\n"
     ]
    }
   ],
   "source": [
    "print('Returns: %.2f%%' % results[0].analyzers.returns.get_analysis()['rnorm100'])"
   ]
  },
  {
   "cell_type": "code",
   "execution_count": 166,
   "id": "58fddde2",
   "metadata": {},
   "outputs": [
    {
     "name": "stdout",
     "output_type": "stream",
     "text": [
      "Max Drawdown: 0.21%\n"
     ]
    }
   ],
   "source": [
    "print('Max Drawdown: %.2f%%' % results[0].analyzers.drawdown.get_analysis()['max']['drawdown'])"
   ]
  },
  {
   "cell_type": "code",
   "execution_count": 167,
   "id": "8243b8c7",
   "metadata": {},
   "outputs": [
    {
     "name": "stdout",
     "output_type": "stream",
     "text": [
      "Capital: $3012.69\n"
     ]
    }
   ],
   "source": [
    "print('Capital: $%.2f' % cerebro.broker.get_value())"
   ]
  },
  {
   "cell_type": "code",
   "execution_count": null,
   "id": "9fdce589",
   "metadata": {},
   "outputs": [],
   "source": []
  }
 ],
 "metadata": {
  "kernelspec": {
   "display_name": "Python 3 (ipykernel)",
   "language": "python",
   "name": "python3"
  },
  "language_info": {
   "codemirror_mode": {
    "name": "ipython",
    "version": 3
   },
   "file_extension": ".py",
   "mimetype": "text/x-python",
   "name": "python",
   "nbconvert_exporter": "python",
   "pygments_lexer": "ipython3",
   "version": "3.8.8"
  }
 },
 "nbformat": 4,
 "nbformat_minor": 5
}
