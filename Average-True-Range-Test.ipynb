{
 "cells": [
  {
   "cell_type": "code",
   "execution_count": 12,
   "id": "447c37e8",
   "metadata": {},
   "outputs": [],
   "source": [
    "import pandas as pd\n",
    "import yfinance as yf\n",
    "import datetime\n",
    "import numpy as np\n",
    "import matplotlib.pyplot as plt"
   ]
  },
  {
   "cell_type": "code",
   "execution_count": 13,
   "id": "ce9cfe03",
   "metadata": {},
   "outputs": [],
   "source": [
    "def download_data(stock,start,end):\n",
    "    ticker = yf.download(stock,start,end)\n",
    "    return pd.DataFrame(ticker)\n",
    "\n",
    "def calculate_atr(data):\n",
    "    high_low = data['High'] - data['Low']\n",
    "    high_close = np.abs(data['High'] - data['Close'].shift(1))\n",
    "    low_close = np.abs(data['Low'] - data['Close'].shift(1))\n",
    "    \n",
    "    ranges = pd.concat([high_low,high_close,low_close], axis=1)\n",
    "    columns = ['high-low','high-close','low-close']\n",
    "    ranges.columns= columns\n",
    "    true_ranges = np.max(ranges, axis=1)\n",
    "    atr = true_ranges.rolling(14).mean()\n",
    "    return atr"
   ]
  },
  {
   "cell_type": "code",
   "execution_count": 14,
   "id": "53b52496",
   "metadata": {},
   "outputs": [
    {
     "name": "stdout",
     "output_type": "stream",
     "text": [
      "[*********************100%***********************]  1 of 1 completed\n"
     ]
    },
    {
     "data": {
      "text/html": [
       "<div>\n",
       "<style scoped>\n",
       "    .dataframe tbody tr th:only-of-type {\n",
       "        vertical-align: middle;\n",
       "    }\n",
       "\n",
       "    .dataframe tbody tr th {\n",
       "        vertical-align: top;\n",
       "    }\n",
       "\n",
       "    .dataframe thead th {\n",
       "        text-align: right;\n",
       "    }\n",
       "</style>\n",
       "<table border=\"1\" class=\"dataframe\">\n",
       "  <thead>\n",
       "    <tr style=\"text-align: right;\">\n",
       "      <th></th>\n",
       "      <th>Open</th>\n",
       "      <th>High</th>\n",
       "      <th>Low</th>\n",
       "      <th>Close</th>\n",
       "      <th>Adj Close</th>\n",
       "      <th>Volume</th>\n",
       "    </tr>\n",
       "    <tr>\n",
       "      <th>Date</th>\n",
       "      <th></th>\n",
       "      <th></th>\n",
       "      <th></th>\n",
       "      <th></th>\n",
       "      <th></th>\n",
       "      <th></th>\n",
       "    </tr>\n",
       "  </thead>\n",
       "  <tbody>\n",
       "    <tr>\n",
       "      <th>2011-03-31</th>\n",
       "      <td>84.820000</td>\n",
       "      <td>84.940002</td>\n",
       "      <td>84.110001</td>\n",
       "      <td>84.129997</td>\n",
       "      <td>55.584343</td>\n",
       "      <td>15317800</td>\n",
       "    </tr>\n",
       "    <tr>\n",
       "      <th>2011-04-01</th>\n",
       "      <td>84.720001</td>\n",
       "      <td>84.839996</td>\n",
       "      <td>84.169998</td>\n",
       "      <td>84.680000</td>\n",
       "      <td>55.947723</td>\n",
       "      <td>15531500</td>\n",
       "    </tr>\n",
       "    <tr>\n",
       "      <th>2011-04-04</th>\n",
       "      <td>84.260002</td>\n",
       "      <td>84.930000</td>\n",
       "      <td>84.070000</td>\n",
       "      <td>84.870003</td>\n",
       "      <td>56.073273</td>\n",
       "      <td>13096100</td>\n",
       "    </tr>\n",
       "    <tr>\n",
       "      <th>2011-04-05</th>\n",
       "      <td>84.680000</td>\n",
       "      <td>85.940002</td>\n",
       "      <td>84.559998</td>\n",
       "      <td>85.419998</td>\n",
       "      <td>56.436634</td>\n",
       "      <td>17122600</td>\n",
       "    </tr>\n",
       "    <tr>\n",
       "      <th>2011-04-06</th>\n",
       "      <td>85.730003</td>\n",
       "      <td>85.889999</td>\n",
       "      <td>84.959999</td>\n",
       "      <td>85.180000</td>\n",
       "      <td>56.278080</td>\n",
       "      <td>13339700</td>\n",
       "    </tr>\n",
       "    <tr>\n",
       "      <th>...</th>\n",
       "      <td>...</td>\n",
       "      <td>...</td>\n",
       "      <td>...</td>\n",
       "      <td>...</td>\n",
       "      <td>...</td>\n",
       "      <td>...</td>\n",
       "    </tr>\n",
       "    <tr>\n",
       "      <th>2012-12-24</th>\n",
       "      <td>87.129997</td>\n",
       "      <td>87.320000</td>\n",
       "      <td>86.800003</td>\n",
       "      <td>86.919998</td>\n",
       "      <td>59.964222</td>\n",
       "      <td>6385200</td>\n",
       "    </tr>\n",
       "    <tr>\n",
       "      <th>2012-12-26</th>\n",
       "      <td>87.209999</td>\n",
       "      <td>87.680000</td>\n",
       "      <td>86.570000</td>\n",
       "      <td>87.070000</td>\n",
       "      <td>60.067703</td>\n",
       "      <td>10737800</td>\n",
       "    </tr>\n",
       "    <tr>\n",
       "      <th>2012-12-27</th>\n",
       "      <td>87.050003</td>\n",
       "      <td>87.239998</td>\n",
       "      <td>85.750000</td>\n",
       "      <td>86.860001</td>\n",
       "      <td>59.922817</td>\n",
       "      <td>14258500</td>\n",
       "    </tr>\n",
       "    <tr>\n",
       "      <th>2012-12-28</th>\n",
       "      <td>86.099998</td>\n",
       "      <td>86.290001</td>\n",
       "      <td>85.070000</td>\n",
       "      <td>85.099998</td>\n",
       "      <td>58.708630</td>\n",
       "      <td>13358700</td>\n",
       "    </tr>\n",
       "    <tr>\n",
       "      <th>2012-12-31</th>\n",
       "      <td>85.040001</td>\n",
       "      <td>86.660004</td>\n",
       "      <td>84.699997</td>\n",
       "      <td>86.550003</td>\n",
       "      <td>59.708954</td>\n",
       "      <td>19810800</td>\n",
       "    </tr>\n",
       "  </tbody>\n",
       "</table>\n",
       "<p>441 rows × 6 columns</p>\n",
       "</div>"
      ],
      "text/plain": [
       "                 Open       High        Low      Close  Adj Close    Volume\n",
       "Date                                                                       \n",
       "2011-03-31  84.820000  84.940002  84.110001  84.129997  55.584343  15317800\n",
       "2011-04-01  84.720001  84.839996  84.169998  84.680000  55.947723  15531500\n",
       "2011-04-04  84.260002  84.930000  84.070000  84.870003  56.073273  13096100\n",
       "2011-04-05  84.680000  85.940002  84.559998  85.419998  56.436634  17122600\n",
       "2011-04-06  85.730003  85.889999  84.959999  85.180000  56.278080  13339700\n",
       "...               ...        ...        ...        ...        ...       ...\n",
       "2012-12-24  87.129997  87.320000  86.800003  86.919998  59.964222   6385200\n",
       "2012-12-26  87.209999  87.680000  86.570000  87.070000  60.067703  10737800\n",
       "2012-12-27  87.050003  87.239998  85.750000  86.860001  59.922817  14258500\n",
       "2012-12-28  86.099998  86.290001  85.070000  85.099998  58.708630  13358700\n",
       "2012-12-31  85.040001  86.660004  84.699997  86.550003  59.708954  19810800\n",
       "\n",
       "[441 rows x 6 columns]"
      ]
     },
     "execution_count": 14,
     "metadata": {},
     "output_type": "execute_result"
    }
   ],
   "source": [
    "start_date = datetime.datetime(2011,4,1)\n",
    "end_date = datetime.datetime(2013,1,1)\n",
    "stock_data = download_data('XOM',start_date,end_date)\n",
    "stock_data"
   ]
  },
  {
   "cell_type": "code",
   "execution_count": 15,
   "id": "2b4ddd7e",
   "metadata": {},
   "outputs": [],
   "source": [
    "atr_values = calculate_atr(stock_data)"
   ]
  },
  {
   "cell_type": "code",
   "execution_count": 23,
   "id": "24108339",
   "metadata": {},
   "outputs": [
    {
     "data": {
      "text/plain": [
       "Date\n",
       "2011-04-19    1.224286\n",
       "2011-04-20    1.299286\n",
       "2011-04-21    1.310715\n",
       "2011-04-25    1.292858\n",
       "2011-04-26    1.284286\n",
       "                ...   \n",
       "2012-12-24    1.042143\n",
       "2012-12-26    1.037857\n",
       "2012-12-27    1.085714\n",
       "2012-12-28    1.151428\n",
       "2012-12-31    1.240714\n",
       "Length: 428, dtype: float64"
      ]
     },
     "execution_count": 23,
     "metadata": {},
     "output_type": "execute_result"
    }
   ],
   "source": [
    "atr_values.dropna(inplace=True)\n"
   ]
  },
  {
   "cell_type": "code",
   "execution_count": 26,
   "id": "351c9e89",
   "metadata": {},
   "outputs": [
    {
     "data": {
      "image/png": "[encoded data removed]",
      "text/plain": [
       "<Figure size 432x288 with 2 Axes>"
      ]
     },
     "metadata": {
      "needs_background": "light"
     },
     "output_type": "display_data"
    }
   ],
   "source": [
    "fig, (ax1,ax2) = plt.subplots(2)\n",
    "fig.suptitle('Stock Prices and ATR Indicator')\n",
    "ax1.plot(stock_date['Close'])\n",
    "ax2.plot(atr_values)\n",
    "fig.autofmt_xdate()\n"
   ]
  },
  {
   "cell_type": "code",
   "execution_count": null,
   "id": "918dc830",
   "metadata": {},
   "outputs": [],
   "source": []
  }
 ],
 "metadata": {
  "kernelspec": {
   "display_name": "Python 3 (ipykernel)",
   "language": "python",
   "name": "python3"
  },
  "language_info": {
   "codemirror_mode": {
    "name": "ipython",
    "version": 3
   },
   "file_extension": ".py",
   "mimetype": "text/x-python",
   "name": "python",
   "nbconvert_exporter": "python",
   "pygments_lexer": "ipython3",
   "version": "3.8.8"
  }
 },
 "nbformat": 4,
 "nbformat_minor": 5
}
