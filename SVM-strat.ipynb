{
 "cells": [
  {
   "cell_type": "code",
   "execution_count": 29,
   "id": "b60f75c5",
   "metadata": {},
   "outputs": [],
   "source": [
    "import yfinance as yf\n",
    "import pandas as pd \n",
    "import numpy as np\n",
    "import datetime\n",
    "from sklearn.svm import SVC\n",
    "from sklearn.metrics import confusion_matrix\n",
    "from sklearn.model_selection import train_test_split\n",
    "from sklearn.metrics import accuracy_score\n",
    "from sklearn.model_selection import ParameterGrid\n"
   ]
  },
  {
   "cell_type": "code",
   "execution_count": 30,
   "id": "e9fbba0f",
   "metadata": {},
   "outputs": [],
   "source": [
    "def download_data(stock,start,end):\n",
    "    data = {}\n",
    "    ticker = yf.download(stock,start,end)\n",
    "    data['Close'] = ticker['Adj Close']\n",
    "    return pd.DataFrame(data)\n"
   ]
  },
  {
   "cell_type": "code",
   "execution_count": 31,
   "id": "e89f88c0",
   "metadata": {},
   "outputs": [],
   "source": [
    "def construct_features(data,lags=2):\n",
    "    for i in range(0,lags):\n",
    "        data['Lag%s' % str(i+1)] = data['Close'].shift(i+1)\n",
    "    \n",
    "    data['Today Change'] = data['Close']\n",
    "    data['Today Change'] = data['Today Change'].pct_change() * 100 \n",
    "    \n",
    "    for i in range(0,lags):\n",
    "        data['Lag%s' % str(i+1)] = data['Lag%s' % str(i+1)].pct_change() * 100\n",
    "    data['Direction'] = np.where(data['Today Change'] > 0,1,-1)\n",
    "    "
   ]
  },
  {
   "cell_type": "code",
   "execution_count": 32,
   "id": "7db91c38",
   "metadata": {},
   "outputs": [
    {
     "name": "stdout",
     "output_type": "stream",
     "text": [
      "[*********************100%***********************]  1 of 1 completed\n"
     ]
    }
   ],
   "source": [
    "start_date = datetime.datetime(2017,1,1)\n",
    "end_date = datetime.datetime(2018,1,1)\n",
    "\n",
    "stock_data = download_data('^GSPC',start_date,end_date)\n",
    "construct_features(stock_data)"
   ]
  },
  {
   "cell_type": "code",
   "execution_count": 33,
   "id": "73fe54b5",
   "metadata": {},
   "outputs": [],
   "source": [
    "stock_data = stock_data.dropna()\n"
   ]
  },
  {
   "cell_type": "code",
   "execution_count": 34,
   "id": "eadc0eca",
   "metadata": {},
   "outputs": [],
   "source": [
    "X = stock_data[['Lag1','Lag2']]\n",
    "Y = stock_data['Direction']\n",
    "#80% is for training, 20% is for testing \n",
    "X_train,X_test,y_train,y_test = train_test_split(X,Y,test_size=0.2)\n",
    "\n",
    "parameters = {'gamma': [0.01,0.001,0.0001,0.00001,0.000001],\n",
    "             'C': [1,10,100,1000,10000,100000]}\n",
    "grid = list(ParameterGrid(parameters))\n",
    "\n",
    "best_accuracy  = 0\n",
    "best_parameter = None\n",
    "\n"
   ]
  },
  {
   "cell_type": "code",
   "execution_count": 35,
   "id": "db29d8e4",
   "metadata": {
    "scrolled": true
   },
   "outputs": [
    {
     "name": "stdout",
     "output_type": "stream",
     "text": [
      "Accuracy of the model: 0.5600\n",
      "Accuracy of the model: 0.5600\n",
      "Accuracy of the model: 0.5600\n",
      "Accuracy of the model: 0.5600\n",
      "Accuracy of the model: 0.5600\n",
      "Accuracy of the model: 0.5600\n",
      "Accuracy of the model: 0.5600\n",
      "Accuracy of the model: 0.5600\n",
      "Accuracy of the model: 0.5600\n",
      "Accuracy of the model: 0.5600\n",
      "Accuracy of the model: 0.5600\n",
      "Accuracy of the model: 0.5600\n",
      "Accuracy of the model: 0.5600\n",
      "Accuracy of the model: 0.5600\n",
      "Accuracy of the model: 0.5600\n",
      "Accuracy of the model: 0.6400\n",
      "Accuracy of the model: 0.5600\n",
      "Accuracy of the model: 0.5600\n",
      "Accuracy of the model: 0.5600\n",
      "Accuracy of the model: 0.5600\n",
      "Accuracy of the model: 0.6200\n",
      "Accuracy of the model: 0.5600\n",
      "Accuracy of the model: 0.5600\n",
      "Accuracy of the model: 0.5600\n",
      "Accuracy of the model: 0.5600\n",
      "Accuracy of the model: 0.6200\n",
      "Accuracy of the model: 0.6400\n",
      "Accuracy of the model: 0.5600\n",
      "Accuracy of the model: 0.5600\n",
      "Accuracy of the model: 0.5600\n"
     ]
    }
   ],
   "source": [
    "for p in grid:\n",
    "    model = SVC(C=p['C'],gamma=p['gamma'])\n",
    "    model.fit(X_train,y_train)\n",
    "    predictions = model.predict(X_test)\n",
    "    accuracy = accuracy_score(y_test,predictions)\n",
    "    print('Accuracy of the model: %.4f' % accuracy)\n",
    "    \n",
    "    if accuracy > best_accuracy:\n",
    "        best_accuracy = accuracy\n",
    "        best_parameters = p\n",
    "        \n",
    "   "
   ]
  },
  {
   "cell_type": "code",
   "execution_count": 36,
   "id": "7f905c59",
   "metadata": {},
   "outputs": [
    {
     "name": "stdout",
     "output_type": "stream",
     "text": [
      "0.64\n",
      "{'C': 1000, 'gamma': 0.01}\n"
     ]
    }
   ],
   "source": [
    "print(best_accuracy)\n",
    "print(best_parameters)"
   ]
  },
  {
   "cell_type": "code",
   "execution_count": null,
   "id": "740b4846",
   "metadata": {},
   "outputs": [],
   "source": []
  }
 ],
 "metadata": {
  "kernelspec": {
   "display_name": "Python 3 (ipykernel)",
   "language": "python",
   "name": "python3"
  },
  "language_info": {
   "codemirror_mode": {
    "name": "ipython",
    "version": 3
   },
   "file_extension": ".py",
   "mimetype": "text/x-python",
   "name": "python",
   "nbconvert_exporter": "python",
   "pygments_lexer": "ipython3",
   "version": "3.8.8"
  }
 },
 "nbformat": 4,
 "nbformat_minor": 5
}
